{
 "cells": [
  {
   "cell_type": "markdown",
   "metadata": {},
   "source": [
    "# What factors guests care about most in choosing accomodations?\n",
    "The aim of this notebook is to find the important factors when guests are choosing accomodations by generating word cloud according to reviews data."
   ]
  },
  {
   "cell_type": "code",
   "execution_count": 17,
   "metadata": {},
   "outputs": [],
   "source": [
    "import pandas as pd\n",
    "import numpy as np\n",
    "import PIL.Image as image\n",
    "import matplotlib.pyplot as plt\n",
    "from wordcloud import WordCloud, STOPWORDS\n",
    "from os import path"
   ]
  },
  {
   "cell_type": "code",
   "execution_count": 3,
   "metadata": {},
   "outputs": [
    {
     "name": "stdout",
     "output_type": "stream",
     "text": [
      "(84849, 6)\n"
     ]
    },
    {
     "data": {
      "text/html": [
       "<div>\n",
       "<style scoped>\n",
       "    .dataframe tbody tr th:only-of-type {\n",
       "        vertical-align: middle;\n",
       "    }\n",
       "\n",
       "    .dataframe tbody tr th {\n",
       "        vertical-align: top;\n",
       "    }\n",
       "\n",
       "    .dataframe thead th {\n",
       "        text-align: right;\n",
       "    }\n",
       "</style>\n",
       "<table border=\"1\" class=\"dataframe\">\n",
       "  <thead>\n",
       "    <tr style=\"text-align: right;\">\n",
       "      <th></th>\n",
       "      <th>listing_id</th>\n",
       "      <th>id</th>\n",
       "      <th>date</th>\n",
       "      <th>reviewer_id</th>\n",
       "      <th>reviewer_name</th>\n",
       "      <th>comments</th>\n",
       "    </tr>\n",
       "  </thead>\n",
       "  <tbody>\n",
       "    <tr>\n",
       "      <th>0</th>\n",
       "      <td>7202016</td>\n",
       "      <td>38917982</td>\n",
       "      <td>2015-07-19</td>\n",
       "      <td>28943674</td>\n",
       "      <td>Bianca</td>\n",
       "      <td>Cute and cozy place. Perfect location to every...</td>\n",
       "    </tr>\n",
       "    <tr>\n",
       "      <th>1</th>\n",
       "      <td>7202016</td>\n",
       "      <td>39087409</td>\n",
       "      <td>2015-07-20</td>\n",
       "      <td>32440555</td>\n",
       "      <td>Frank</td>\n",
       "      <td>Kelly has a great room in a very central locat...</td>\n",
       "    </tr>\n",
       "    <tr>\n",
       "      <th>2</th>\n",
       "      <td>7202016</td>\n",
       "      <td>39820030</td>\n",
       "      <td>2015-07-26</td>\n",
       "      <td>37722850</td>\n",
       "      <td>Ian</td>\n",
       "      <td>Very spacious apartment, and in a great neighb...</td>\n",
       "    </tr>\n",
       "    <tr>\n",
       "      <th>3</th>\n",
       "      <td>7202016</td>\n",
       "      <td>40813543</td>\n",
       "      <td>2015-08-02</td>\n",
       "      <td>33671805</td>\n",
       "      <td>George</td>\n",
       "      <td>Close to Seattle Center and all it has to offe...</td>\n",
       "    </tr>\n",
       "    <tr>\n",
       "      <th>4</th>\n",
       "      <td>7202016</td>\n",
       "      <td>41986501</td>\n",
       "      <td>2015-08-10</td>\n",
       "      <td>34959538</td>\n",
       "      <td>Ming</td>\n",
       "      <td>Kelly was a great host and very accommodating ...</td>\n",
       "    </tr>\n",
       "  </tbody>\n",
       "</table>\n",
       "</div>"
      ],
      "text/plain": [
       "   listing_id        id        date  reviewer_id reviewer_name  \\\n",
       "0     7202016  38917982  2015-07-19     28943674        Bianca   \n",
       "1     7202016  39087409  2015-07-20     32440555         Frank   \n",
       "2     7202016  39820030  2015-07-26     37722850           Ian   \n",
       "3     7202016  40813543  2015-08-02     33671805        George   \n",
       "4     7202016  41986501  2015-08-10     34959538          Ming   \n",
       "\n",
       "                                            comments  \n",
       "0  Cute and cozy place. Perfect location to every...  \n",
       "1  Kelly has a great room in a very central locat...  \n",
       "2  Very spacious apartment, and in a great neighb...  \n",
       "3  Close to Seattle Center and all it has to offe...  \n",
       "4  Kelly was a great host and very accommodating ...  "
      ]
     },
     "execution_count": 3,
     "metadata": {},
     "output_type": "execute_result"
    }
   ],
   "source": [
    "reviews = pd.read_csv('Seattle_Airbnb_Open_Data\\\\reviews.csv')\n",
    "print(reviews.shape)\n",
    "reviews.head()"
   ]
  },
  {
   "cell_type": "code",
   "execution_count": 9,
   "metadata": {},
   "outputs": [
    {
     "data": {
      "text/plain": [
       "listing_id        0\n",
       "id                0\n",
       "date              0\n",
       "reviewer_id       0\n",
       "reviewer_name     0\n",
       "comments         18\n",
       "dtype: int64"
      ]
     },
     "execution_count": 9,
     "metadata": {},
     "output_type": "execute_result"
    }
   ],
   "source": [
    "reviews.isnull().sum()"
   ]
  },
  {
   "cell_type": "code",
   "execution_count": 10,
   "metadata": {},
   "outputs": [],
   "source": [
    "reviews = reviews.dropna()"
   ]
  },
  {
   "cell_type": "code",
   "execution_count": 22,
   "metadata": {},
   "outputs": [],
   "source": [
    "bg_img = plt.imread('house.jpg')"
   ]
  },
  {
   "cell_type": "markdown",
   "metadata": {},
   "source": [
    "gather all comments together"
   ]
  },
  {
   "cell_type": "code",
   "execution_count": 21,
   "metadata": {},
   "outputs": [
    {
     "data": {
      "text/plain": [
       "'Cute and cozy place. Perfect location to everything! Kelly has a great room in a very central location. Beautiful building , architecture and a style that we really like. We felt guite at home here and wish we had spent more time.Went for a walk and found  Center with a major food festival in progress. What a treat.Visited the Space Needle and the Chihuly Glass exhibit. Then Pikes Place Market. WOW.  Thanks for a great stay.Very spacious apartment, and in a great neighborhood.  This is the kind of apartment I wish I had!Didn\\'t really get to meet Kelly until I was on my out, but she was always readily available by phone. I believe the only \"issue\" (if you want to call it that) was finding a place to park, but I sincerely doubt its easy to park anywhere in a residential area after 5 pm on a FridayClose to  Center and all it has to offer - ballet, theater, museum, Space Needle, restaurants of all ilk just blocks away, and the Metropolitan (probably the coolest grocer you\\'ll ever find). Easy to find and Kelly was warm, welcoming, and really interesting to talk to. Kelly was a great host and very accommodating in a great neighborhood. She has some great coffee and while I wasn\\'t around much during my stay the time I spent interacting with her was very pleasant. The apartment is in a great location and very close to the  Center. The neighborhood itself has a lot of good food as well!Kelly was great, place was great, just what I was looking for-clean, simple, well kept place.5 min walk to the  bike share (as of Aug 2015) which I used all week.Kelly was great! Very nice and the neighborhood and place to stay was expected and comfortable. Overall great and would book again.hola all bnb erz - Just left  where I had a simply fantastic time for the weekend , no small part because of the welcome mat left for me at Kelly\\'s. all was good and mega efficient, most including precise directions-very important in this town. oh , btw, her cool 50\\'s apt in in the perfect spot to do anything in town with minimum effort. CHEERSKelly\\'s place is conveniently located on a quiet street in Lower Queen Anne which is an easy walk or bus/cab ride to Belltown and Downtown in addition to being a booming neighborhood in its own right. Alas, I was visiting my job and old friends in  so my schedule was completely full and I barely got to meet Kelly. Which is too bad, she seemed great!The place was really nice, clean, and the most important aspect; it was close to everything so we moved across the city easily.Muy limpio y espacioso, Kelly fue muy agradable y lo mas importante es que esta cerca de prácticamente todo lo que nos permitió movernos fácilmente por la cuidad.The place was really nice, clean and quiet at night.Clean Linen and Towels were provided and the air mattress was superb. The Neighbourhood is practical with a lot of restaurants and cafes around. Downtown is reachable by foot (30 min) or bus (10 min).Kelly was a fantastic host, although I was working most of the time, so I haven\\'t had time to talk much to her. The listing was exactly as described!  Kelly\\'s place was wonderful and cleen.  it was just what we were looking for.We only got to meet her for a moment one evening because of our varied schedule, but she was warm and welcoming to us.Her place is also in good walking distance to City Center!  Lots to do right around there!We would recommend her place to others who are traveling to !Very welcoming and a nicer place to live in the  areaGreat location, great price, great host! Thanks for the wine, coffee and interesting conversation. You\\'ll definitely see me again when I visit next.Staying at Kelly\\'s was easy. The location was a block away from public transportation, her place was easy to find, keys were easy to access and timing was extremely flexible. Great for the price - nothing too fancy. One negative: the shower didn\\'t drain well. Kelly was an amazing host who made the stay very pleasurable. Her location is ideal for anyone visiting . Highly recommendedDespite our late booking request, Rachel & Jon were very responsive and helpful over email. It was a great place to stay - the location was ideal, the house was clean, well-furnished, the room was cozy, and the cat made good company. Overall, a lovely experience and I would definitely recommend the Farmhouse! Rachel & Jon have a nice house closed to downtown. The room was clean. The kitten is really nice and friendly. A good place to stay!Rachel and Jon have been the perfect hosts for us. Our schedule was very tight and they have been very helpful for the check-in and the reservation.The house is conveniently located, spacious, and beautiful. The room has space for luggages or coats in a big closet. You are given a spare key, so you\\'re free to go in and out.We have felt really confortable with our hosts and really recommand this house as a place to stay if you\\'re going to .This house was a delightful bright place to stay! Rachel and Jon were so nice, they had breakfast for'"
      ]
     },
     "execution_count": 21,
     "metadata": {},
     "output_type": "execute_result"
    }
   ],
   "source": [
    "comments = ''.join(list(reviews['comments'].values))\n",
    "comments = comments.replace('\\r', '')\n",
    "comments = comments.replace('\\n', '')\n",
    "comments = comments.replace('Seattle', '')\n",
    "comments[:5000]"
   ]
  },
  {
   "cell_type": "code",
   "execution_count": 23,
   "metadata": {},
   "outputs": [
    {
     "data": {
      "image/png": "[encoded data removed]",
      "text/plain": [
       "<Figure size 432x288 with 1 Axes>"
      ]
     },
     "metadata": {
      "needs_background": "light"
     },
     "output_type": "display_data"
    },
    {
     "data": {
      "text/plain": [
       "<wordcloud.wordcloud.WordCloud at 0x1a494055080>"
      ]
     },
     "execution_count": 23,
     "metadata": {},
     "output_type": "execute_result"
    }
   ],
   "source": [
    "wordcloud =  WordCloud(background_color='white', mask=bg_img, max_words=2000, stopwords=STOPWORDS, max_font_size=150, scale=32, random_state=42)\n",
    "wordcloud.generate_from_text(comments)\n",
    "plt.imshow(wordcloud)\n",
    "plt.axis('off')\n",
    "plt.show()\n",
    "wordcloud.to_file('reviews_wordcloud.jpg')"
   ]
  },
  {
   "cell_type": "markdown",
   "metadata": {},
   "source": [
    "### Conclusion:\n",
    "We can find that key words which frequently appear in reviews are \"place\", \"stay\", \"apartment\", \"house\", \"comfortable\", \"clean\", \"room\", which means that location, the property of listings, comfort, Cleanliness are important factors for guests in choosing accomodations. "
   ]
  }
 ],
 "metadata": {
  "kernelspec": {
   "display_name": "Python 3",
   "language": "python",
   "name": "python3"
  },
  "language_info": {
   "codemirror_mode": {
    "name": "ipython",
    "version": 3
   },
   "file_extension": ".py",
   "mimetype": "text/x-python",
   "name": "python",
   "nbconvert_exporter": "python",
   "pygments_lexer": "ipython3",
   "version": "3.7.3"
  }
 },
 "nbformat": 4,
 "nbformat_minor": 2
}
